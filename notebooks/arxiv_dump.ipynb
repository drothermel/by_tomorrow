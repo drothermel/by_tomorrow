{
 "cells": [
  {
   "cell_type": "code",
   "execution_count": 1,
   "id": "48d6683f-c4ce-45c0-baf0-460ef01aea16",
   "metadata": {},
   "outputs": [],
   "source": [
    "import dr_util.file_utils as fu\n",
    "from omegaconf import DictConfig, OmegaConf\n",
    "from hydra import initialize, compose\n",
    "\n",
    "import re\n",
    "from collections import defaultdict\n",
    "\n",
    "#import polars as pl\n",
    "import pandas as pd\n",
    "\n",
    "%load_ext autoreload\n",
    "%autoreload 2"
   ]
  },
  {
   "cell_type": "code",
   "execution_count": 2,
   "id": "0f5dbeb4-fea5-4012-b409-b949754faff2",
   "metadata": {},
   "outputs": [],
   "source": [
    "# Citing sources\n",
    "# - Imported the data and simple plotting from here: https://www.kaggle.com/code/auhide/arxiv-paper-classification\n",
    "# - Data cleaning (comment filtering) from here: https://www.kaggle.com/code/carlmcbrideellis/machine-learning-review-papers-on-arxiv-polars"
   ]
  },
  {
   "cell_type": "markdown",
   "id": "1240c25a-0f47-421c-9a4a-1e77c1eba928",
   "metadata": {
    "jp-MarkdownHeadingCollapsed": true
   },
   "source": [
    "## Constants"
   ]
  },
  {
   "cell_type": "code",
   "execution_count": 3,
   "id": "d44e61bf-1517-4b32-8a35-49781611d3b4",
   "metadata": {},
   "outputs": [],
   "source": [
    "cs_field_map = {'cs.AI': 'Artificial Intelligence',\n",
    "                'cs.AR': 'Hardware Architecture',\n",
    "                'cs.CC': 'Computational Complexity',\n",
    "                'cs.CE': 'Computational Engineering, Finance, and Science',\n",
    "                'cs.CG': 'Computational Geometry',\n",
    "                'cs.CL': 'Computation and Language',\n",
    "                'cs.CR': 'Cryptography and Security',\n",
    "                'cs.CV': 'Computer Vision and Pattern Recognition',\n",
    "                'cs.CY': 'Computers and Society',\n",
    "                'cs.DB': 'Databases',\n",
    "                'cs.DC': 'Distributed, Parallel, and Cluster Computing',\n",
    "                'cs.DL': 'Digital Libraries',\n",
    "                'cs.DM': 'Discrete Mathematics',\n",
    "                'cs.DS': 'Data Structures and Algorithms',\n",
    "                'cs.ET': 'Emerging Technologies',\n",
    "                'cs.FL': 'Formal Languages and Automata Theory',\n",
    "                'cs.GL': 'General Literature',\n",
    "                'cs.GR': 'Graphics',\n",
    "                'cs.GT': 'Computer Science and Game Theory',\n",
    "                'cs.HC': 'Human-Computer Interaction',\n",
    "                'cs.IR': 'Information Retrieval',\n",
    "                'cs.IT': 'Information Theory',\n",
    "                'cs.LG': 'Machine Learning',\n",
    "                'cs.LO': 'Logic in Computer Science',\n",
    "                'cs.MA': 'Multiagent Systems',\n",
    "                'cs.MM': 'Multimedia',\n",
    "                'cs.MS': 'Mathematical Software',\n",
    "                'cs.NA': 'Numerical Analysis',\n",
    "                'cs.NE': 'Neural and Evolutionary Computing',\n",
    "                'cs.NI': 'Networking and Internet Architecture',\n",
    "                'cs.OH': 'Other Computer Science',\n",
    "                'cs.OS': 'Operating Systems',\n",
    "                'cs.PF': 'Performance',\n",
    "                'cs.PL': 'Programming Languages',\n",
    "                'cs.RO': 'Robotics',\n",
    "                'cs.SC': 'Symbolic Computation',\n",
    "                'cs.SD': 'Sound',\n",
    "                'cs.SE': 'Software Engineering',\n",
    "                'cs.SI': 'Social and Information Networks',\n",
    "                'cs.SY': 'Systems and Control',\n",
    "                'eess.AS': 'Audio and Speech Processing',\n",
    "                'eess.IV': 'Image and Video Processing',\n",
    "                'eess.SP': 'Signal Processing',\n",
    "                'physics.comp-ph': 'Computational Physics',\n",
    "                'physics.data-an': 'Data Analysis, Statistics and Probability',\n",
    "                'q-bio.QM': 'Quantitative Methods',\n",
    "                'q-fin.CP': 'Computational Finance',\n",
    "                'stat.AP': 'Applications',\n",
    "                'stat.CO': 'Computation',\n",
    "                'stat.ME': 'Methodology',\n",
    "                'stat.ML': 'Machine Learning',\n",
    "                'stat.OT': 'Other Statistics',\n",
    "                'stat.TH': 'StatisticsTheory'}"
   ]
  },
  {
   "cell_type": "code",
   "execution_count": 4,
   "id": "9d3734c4-ba37-4421-be16-0aacd9c1949d",
   "metadata": {},
   "outputs": [],
   "source": [
    "sci_field_map = {'astro-ph': 'Astrophysics',\n",
    "                'astro-ph.CO': 'Cosmology and Nongalactic Astrophysics',\n",
    "                'astro-ph.EP': 'Earth and Planetary Astrophysics',\n",
    "                'astro-ph.GA': 'Astrophysics of Galaxies',\n",
    "                'astro-ph.HE': 'High Energy Astrophysical Phenomena',\n",
    "                'astro-ph.IM': 'Instrumentation and Methods for Astrophysics',\n",
    "                'astro-ph.SR': 'Solar and Stellar Astrophysics',\n",
    "                'cond-mat.dis-nn': 'Disordered Systems and Neural Networks',\n",
    "                'cond-mat.mes-hall': 'Mesoscale and Nanoscale Physics',\n",
    "                'cond-mat.mtrl-sci': 'Materials Science',\n",
    "                'cond-mat.other': 'Other Condensed Matter',\n",
    "                'cond-mat.quant-gas': 'Quantum Gases',\n",
    "                'cond-mat.soft': 'Soft Condensed Matter',\n",
    "                'cond-mat.stat-mech': 'Statistical Mechanics',\n",
    "                'cond-mat.str-el': 'Strongly Correlated Electrons',\n",
    "                'cond-mat.supr-con': 'Superconductivity',\n",
    "                'cs.AI': 'Artificial Intelligence',\n",
    "                'cs.AR': 'Hardware Architecture',\n",
    "                'cs.CC': 'Computational Complexity',\n",
    "                'cs.CE': 'Computational Engineering, Finance, and Science',\n",
    "                'cs.CG': 'Computational Geometry',\n",
    "                'cs.CL': 'Computation and Language',\n",
    "                'cs.CR': 'Cryptography and Security',\n",
    "                'cs.CV': 'Computer Vision and Pattern Recognition',\n",
    "                'cs.CY': 'Computers and Society',\n",
    "                'cs.DB': 'Databases',\n",
    "                'cs.DC': 'Distributed, Parallel, and Cluster Computing',\n",
    "                'cs.DL': 'Digital Libraries',\n",
    "                'cs.DM': 'Discrete Mathematics',\n",
    "                'cs.DS': 'Data Structures and Algorithms',\n",
    "                'cs.ET': 'Emerging Technologies',\n",
    "                'cs.FL': 'Formal Languages and Automata Theory',\n",
    "                'cs.GL': 'General Literature',\n",
    "                'cs.GR': 'Graphics',\n",
    "                'cs.GT': 'Computer Science and Game Theory',\n",
    "                'cs.HC': 'Human-Computer Interaction',\n",
    "                'cs.IR': 'Information Retrieval',\n",
    "                'cs.IT': 'Information Theory',\n",
    "                'cs.LG': 'Machine Learning',\n",
    "                'cs.LO': 'Logic in Computer Science',\n",
    "                'cs.MA': 'Multiagent Systems',\n",
    "                'cs.MM': 'Multimedia',\n",
    "                'cs.MS': 'Mathematical Software',\n",
    "                'cs.NA': 'Numerical Analysis',\n",
    "                'cs.NE': 'Neural and Evolutionary Computing',\n",
    "                'cs.NI': 'Networking and Internet Architecture',\n",
    "                'cs.OH': 'Other Computer Science',\n",
    "                'cs.OS': 'Operating Systems',\n",
    "                'cs.PF': 'Performance',\n",
    "                'cs.PL': 'Programming Languages',\n",
    "                'cs.RO': 'Robotics',\n",
    "                'cs.SC': 'Symbolic Computation',\n",
    "                'cs.SD': 'Sound',\n",
    "                'cs.SE': 'Software Engineering',\n",
    "                'cs.SI': 'Social and Information Networks',\n",
    "                'cs.SY': 'Systems and Control',\n",
    "                'econ.EM': 'Econometrics',\n",
    "                'eess.AS': 'Audio and Speech Processing',\n",
    "                'eess.IV': 'Image and Video Processing',\n",
    "                'eess.SP': 'Signal Processing',\n",
    "                'gr-qc': 'General Relativity and Quantum Cosmology',\n",
    "                'hep-ex': 'High Energy Physics - Experiment',\n",
    "                'hep-lat': 'High Energy Physics - Lattice',\n",
    "                'hep-ph': 'High Energy Physics - Phenomenology',\n",
    "                'hep-th': 'High Energy Physics - Theory',\n",
    "                'math.AC': 'Commutative Algebra',\n",
    "                'math.AG': 'Algebraic Geometry',\n",
    "                'math.AP': 'Analysis of PDEs',\n",
    "                'math.AT': 'Algebraic Topology',\n",
    "                'math.CA': 'Classical Analysis and ODEs',\n",
    "                'math.CO': 'Combinatorics',\n",
    "                'math.CT': 'Category Theory',\n",
    "                'math.CV': 'Complex Variables',\n",
    "                'math.DG': 'Differential Geometry',\n",
    "                'math.DS': 'Dynamical Systems',\n",
    "                'math.FA': 'Functional Analysis',\n",
    "                'math.GM': 'General Mathematics',\n",
    "                'math.GN': 'General Topology',\n",
    "                'math.GR': 'Group Theory',\n",
    "                'math.GT': 'Geometric Topology',\n",
    "                'math.HO': 'History and Overview',\n",
    "                'math.IT': 'Information Theory',\n",
    "                'math.KT': 'K-Theory and Homology',\n",
    "                'math.LO': 'Logic',\n",
    "                'math.MG': 'Metric Geometry',\n",
    "                'math.MP': 'Mathematical Physics',\n",
    "                'math.NA': 'Numerical Analysis',\n",
    "                'math.NT': 'Number Theory',\n",
    "                'math.OA': 'Operator Algebras',\n",
    "                'math.OC': 'Optimization and Control',\n",
    "                'math.PR': 'Probability',\n",
    "                'math.QA': 'Quantum Algebra',\n",
    "                'math.RA': 'Rings and Algebras',\n",
    "                'math.RT': 'Representation Theory',\n",
    "                'math.SG': 'Symplectic Geometry',\n",
    "                'math.SP': 'Spectral Theory',\n",
    "                'math.ST': 'Statistics Theory',\n",
    "                'math-ph': 'Mathematical Physics',\n",
    "                'nlin.AO': 'Adaptation and Self-Organizing Systems',\n",
    "                'nlin.CD': 'Chaotic Dynamics',\n",
    "                'nlin.CG': 'Cellular Automata and Lattice Gases',\n",
    "                'nlin.PS': 'Pattern Formation and Solitons',\n",
    "                'nlin.SI': 'Exactly Solvable and Integrable Systems',\n",
    "                'nucl-ex': 'Nuclear Experiment',\n",
    "                'nucl-th': 'Nuclear Theory',\n",
    "                'physics.acc-ph': 'Accelerator Physics',\n",
    "                'physics.ao-ph': 'Atmospheric and Oceanic Physics',\n",
    "                'physics.app-ph': 'Applied Physics',\n",
    "                'physics.atm-clus': 'Atomic and Molecular Clusters',\n",
    "                'physics.atom-ph': 'Atomic Physics',\n",
    "                'physics.bio-ph': 'Biological Physics',\n",
    "                'physics.chem-ph': 'Chemical Physics',\n",
    "                'physics.class-ph': 'Classical Physics',\n",
    "                'physics.comp-ph': 'Computational Physics',\n",
    "                'physics.data-an': 'Data Analysis, Statistics and Probability',\n",
    "                'physics.ed-ph': 'Physics Education',\n",
    "                'physics.flu-dyn': 'Fluid Dynamics',\n",
    "                'physics.gen-ph': 'General Physics',\n",
    "                'physics.geo-ph': 'Geophysics',\n",
    "                'physics.hist-ph': 'History and Philosophy of Physics',\n",
    "                'physics.ins-det': 'Instrumentation and Detectors',\n",
    "                'physics.med-ph': 'Medical Physics',\n",
    "                'physics.optics': 'Optics',\n",
    "                'physics.plasm-ph': 'Plasma Physics',\n",
    "                'physics.pop-ph': 'Popular Physics',\n",
    "                'physics.soc-ph': 'Physics and Society',\n",
    "                'physics.space-ph': 'Space Physics',\n",
    "                'q-bio.BM': 'Biomolecules',\n",
    "                'q-bio.CB': 'Cell Behavior',\n",
    "                'q-bio.GN': 'Genomics',\n",
    "                'q-bio.MN': 'Molecular Networks',\n",
    "                'q-bio.NC': 'Neurons and Cognition',\n",
    "                'q-bio.OT': 'Other Quantitative Biology',\n",
    "                'q-bio.PE': 'Populations and Evolution',\n",
    "                'q-bio.QM': 'Quantitative Methods',\n",
    "                'q-bio.SC': 'Subcellular Processes',\n",
    "                'q-bio.TO': 'Tissues and Organs',\n",
    "                'q-fin.CP': 'Computational Finance',\n",
    "                'q-fin.EC': 'Economics',\n",
    "                'q-fin.GN': 'General Finance',\n",
    "                'q-fin.MF': 'Mathematical Finance',\n",
    "                'q-fin.PM': 'Portfolio Management',\n",
    "                'q-fin.PR': 'Pricing of Securities',\n",
    "                'q-fin.RM': 'Risk Management',\n",
    "                'q-fin.ST': 'Statistical Finance',\n",
    "                'q-fin.TR': 'Trading and Market Microstructure',\n",
    "                'quant-ph': 'Quantum Physics',\n",
    "                'stat.AP': 'Applications',\n",
    "                'stat.CO': 'Computation',\n",
    "                'stat.ME': 'Methodology',\n",
    "                'stat.ML': 'Machine Learning',\n",
    "                'stat.OT': 'Other Statistics',\n",
    "                'stat.TH': 'StatisticsTheory'}"
   ]
  },
  {
   "cell_type": "markdown",
   "id": "4d31b584-c6b2-498d-a768-575c630d76b1",
   "metadata": {
    "jp-MarkdownHeadingCollapsed": true
   },
   "source": [
    "## Load Metadata"
   ]
  },
  {
   "cell_type": "code",
   "execution_count": 5,
   "id": "42903143-c965-4fc3-b79f-808e8e9dd439",
   "metadata": {},
   "outputs": [
    {
     "name": "stdout",
     "output_type": "stream",
     "text": [
      "data_dir: /Users/daniellerothermel/drotherm/data/\n",
      "raw_pdf_dir: /Users/daniellerothermel/drotherm/data/raw_pdfs/\n",
      "parsed_pdf_dir: /Users/daniellerothermel/drotherm/data/parsed_pdfs/\n",
      "metadata_dir: /Users/daniellerothermel/drotherm/data/parsed_pdfs/\n",
      "author_data_dir: /Users/daniellerothermel/drotherm/data/author_data/\n",
      "author_summaries_dir: /Users/daniellerothermel/drotherm/data/author_data/summaries/\n",
      "arxiv_dir: /Users/daniellerothermel/drotherm/data/arxiv/\n",
      "author_info_file: /Users/daniellerothermel/drotherm/data/author_data/manual_profiles.json\n",
      "arxiv_metadata_file: /Users/daniellerothermel/drotherm/data/arxiv/arxiv-metadata-oai-2024-10-16.json\n",
      "prof_pattern: (?P<professor_name>[\\w_]+)\n",
      "file_type_pattern: (?P<file_type>\\w+)\n",
      "version_pattern: v(?P<version>\\d+)\n",
      "author_summary_file_pattern: (?P<professor_name>[\\w_]+)\\.(?P<file_type>\\w+)\\.v(?P<version>\\d+)\n",
      "\n",
      "\n",
      ":: Help for dr_util.file_utils ::\n",
      " --------------------------------- \n",
      "\n",
      " For pathlib helpers: fu.pathlib_help()\n",
      "\n",
      " Main Functions\n",
      "  - load_file(path, force_suffix=None, mmm=None, *, verbose=True)\n",
      "  - dump_file(data, path, force_suffix=None, verbose=Tue)\n",
      "  - load_files(path_list)\n",
      "\n",
      " Supported Endings: json, jsonl, pkl, txt, npy, yaml\n",
      "\n",
      " --------------------------------- \n",
      "\n"
     ]
    }
   ],
   "source": [
    "with initialize(config_path=\"../configs/\", version_base=None):\n",
    "    cfg = compose(config_name=\"paper_data.yaml\")\n",
    "print(OmegaConf.to_yaml(OmegaConf.to_container(cfg, resolve=True)))\n",
    "print(fu.fu_help())"
   ]
  },
  {
   "cell_type": "raw",
   "id": "e57eb522-73e8-4eb2-9459-9ef67df57569",
   "metadata": {},
   "source": [
    "md = fu.load_file(cfg.arxiv_metadata_file, force_suffix='jsonl')\n",
    "len(md), md[0].keys(), md[0]"
   ]
  },
  {
   "cell_type": "markdown",
   "id": "38f41007-1f86-4b67-a4f4-57800625e611",
   "metadata": {},
   "source": [
    "## Pandas Processing"
   ]
  },
  {
   "cell_type": "markdown",
   "id": "ee399aef-6959-48ca-9411-0df897294e45",
   "metadata": {},
   "source": [
    "### Utils"
   ]
  },
  {
   "cell_type": "code",
   "execution_count": 6,
   "id": "cb5b1106-4efd-47ef-9086-bd6b99322500",
   "metadata": {},
   "outputs": [],
   "source": [
    "from typing import Dict, Any, Generator, Tuple, Optional\n",
    "import json"
   ]
  },
  {
   "cell_type": "code",
   "execution_count": 7,
   "id": "e113dbc7-4351-4c42-8c69-1594853a4764",
   "metadata": {},
   "outputs": [],
   "source": [
    "def create_dataframe(generator: Generator, keep_cats=None, max_papers=None) -> pd.DataFrame:\n",
    "\n",
    "    cols_to_drop = set(['versions', 'authors_parsed', 'report-no', 'license', 'submitter'])\n",
    "    \n",
    "    # I'll use this column to filter out paper duplicates.\n",
    "    rows_to_cols = defaultdict(list)\n",
    "    if keep_cats is not None:\n",
    "        lower_cats = set([cat.lower() for cat in keep_cats])\n",
    "    \n",
    "    for row in generator:\n",
    "        if max_papers is not None and len(rows_to_cols['abstracts']) == max_papers:\n",
    "            break\n",
    "\n",
    "        rcs = set([c.lower() for c in row['categories']])\n",
    "        if rcs.isdisjoint(lower_cats):\n",
    "            continue\n",
    "\n",
    "        for k, v in row.items():\n",
    "            if k in cols_to_drop:\n",
    "                continue\n",
    "                \n",
    "            if k == 'versions_dates':\n",
    "                rows_to_cols['date'].append(v[0])\n",
    "            else:\n",
    "                rows_to_cols[k].append(v)\n",
    "        \n",
    "    return pd.DataFrame.from_dict(rows_to_cols)\n"
   ]
  },
  {
   "cell_type": "code",
   "execution_count": 8,
   "id": "1cd2503b-6af6-48d9-b23b-7e90739c1391",
   "metadata": {},
   "outputs": [],
   "source": [
    "def get_dataset_generator(path: str) -> Generator:\n",
    "    with open(path, \"r\") as fp:\n",
    "        for line in fp:\n",
    "            row = json.loads(line)\n",
    "            yield row"
   ]
  },
  {
   "cell_type": "code",
   "execution_count": 20,
   "id": "e3dbab08-1101-42d3-8315-000cb89cb450",
   "metadata": {},
   "outputs": [],
   "source": [
    "# Initially from: https://www.kaggle.com/code/vbookshelf/part-1-build-an-arxiv-rag-search-system-w-faiss\n",
    "def clean_text(x):\n",
    "    # Replace newline characters with a space\n",
    "    new_text = x.replace(\"\\n\", \" \")\n",
    "    # Remove leading and trailing spaces\n",
    "    new_text = new_text.strip()\n",
    "    return new_text"
   ]
  },
  {
   "cell_type": "code",
   "execution_count": null,
   "id": "760dfc2b-e7f8-434a-995f-427141d0a9cb",
   "metadata": {},
   "outputs": [],
   "source": []
  },
  {
   "cell_type": "markdown",
   "id": "16fd442b-9ce8-4255-b5bf-ade93d2878d6",
   "metadata": {},
   "source": [
    "### Run"
   ]
  },
  {
   "cell_type": "code",
   "execution_count": 10,
   "id": "5b47e493-5af3-46f0-828d-ca596a6bc191",
   "metadata": {},
   "outputs": [
    {
     "name": "stdout",
     "output_type": "stream",
     "text": [
      ">> Initial num pages after load: 82892\n",
      ">>   after dropping nulls: 82892\n"
     ]
    }
   ],
   "source": [
    "dataset_generator = get_dataset_generator(\n",
    "    path=cfg.arxiv_metadata_file,\n",
    ")\n",
    "kc = set([c.lower() for c in cs_field_map.keys()]) # get the category names to keep\n",
    "df = create_dataframe(dataset_generator, keep_cats=kc)\n",
    "print(f\">> Initial num pages after load: {df.shape[0]}\")\n",
    "df[\"date\"] = pd.to_datetime(df[\"date\"])\n",
    "df = df.dropna(subset=['title', 'authors', 'date', 'abstract', 'categories']) # Expect a value in every column\n",
    "print(f\">>   after dropping nulls: {df.shape[0]}\")"
   ]
  },
  {
   "cell_type": "code",
   "execution_count": null,
   "id": "5c8cedf0-79c4-40ae-a4ac-bc1568c2b960",
   "metadata": {},
   "outputs": [],
   "source": [
    "#df = df[df['comments'].str.contains(r'(?i)page', regex=True)]\n",
    "#print(f\">>   after dropping papers without page counts: {df.shape[0]}\")\n",
    "#df[\"url\"] = \"https://arxiv.org/abs/\" + df[\"id\"]\n",
    "#df[\"pdf_url\"] = \"https://arxiv.org/pdf/\" + df[\"id\"]"
   ]
  },
  {
   "cell_type": "code",
   "execution_count": 24,
   "id": "3cb914c9-677c-445a-9388-eb5c9a891c06",
   "metadata": {},
   "outputs": [],
   "source": [
    "df['abstract'] = df['abstract'].apply(clean_text)"
   ]
  },
  {
   "cell_type": "code",
   "execution_count": 11,
   "id": "c6326310-d8b2-468b-ac41-ebe631b12c15",
   "metadata": {},
   "outputs": [],
   "source": [
    "df.to_json(cfg.arxiv_metadata_file.replace(\".json\", \"_cs_cleaned.jsonl\"), orient='records', lines=True)"
   ]
  },
  {
   "cell_type": "code",
   "execution_count": null,
   "id": "94231b84-a1cb-4102-a5a0-580dabdf59fd",
   "metadata": {},
   "outputs": [],
   "source": []
  },
  {
   "cell_type": "code",
   "execution_count": null,
   "id": "d05ecc3e-dfb9-4c20-8c5a-84946db93a55",
   "metadata": {},
   "outputs": [],
   "source": []
  },
  {
   "cell_type": "code",
   "execution_count": null,
   "id": "782c6ee6-d2ed-4da0-94e2-beaec3a43271",
   "metadata": {},
   "outputs": [],
   "source": []
  },
  {
   "cell_type": "code",
   "execution_count": 12,
   "id": "4ed01bac-662e-4516-a083-fd02532881ed",
   "metadata": {},
   "outputs": [
    {
     "data": {
      "text/plain": [
       "(Timestamp('2018-07-18 05:34:49'), Timestamp('2007-03-31 23:52:33'))"
      ]
     },
     "execution_count": 12,
     "metadata": {},
     "output_type": "execute_result"
    }
   ],
   "source": [
    "df['date'].max(), df['date'].min()"
   ]
  },
  {
   "cell_type": "code",
   "execution_count": 16,
   "id": "b0c07680-ad50-49f2-bda8-7bbc13846d93",
   "metadata": {},
   "outputs": [
    {
     "data": {
      "text/plain": [
       "'  In this paper, we introduce the on-line Viterbi algorithm for decoding hidden\\nMarkov models (HMMs) in much smaller than linear space. Our analysis on\\ntwo-state HMMs suggests that the expected maximum memory used to decode\\nsequence of length $n$ with $m$-state HMM can be as low as $\\\\Theta(m\\\\log n)$,\\nwithout a significant slow-down compared to the classical Viterbi algorithm.\\nClassical Viterbi algorithm requires $O(mn)$ space, which is impractical for\\nanalysis of long DNA sequences (such as complete human genome chromosomes) and\\nfor continuous data streams. We also experimentally demonstrate the performance\\nof the on-line Viterbi algorithm on a simple HMM for gene finding on both\\nsimulated and real DNA sequences.\\n'"
      ]
     },
     "execution_count": 16,
     "metadata": {},
     "output_type": "execute_result"
    }
   ],
   "source": [
    "df['abstract'][0]"
   ]
  },
  {
   "cell_type": "code",
   "execution_count": 18,
   "id": "e6490911-33f2-4ce8-9700-2bc246f302f2",
   "metadata": {},
   "outputs": [
    {
     "name": "stdout",
     "output_type": "stream",
     "text": [
      "  In this paper, we introduce the on-line Viterbi algorithm for decoding hidden\n",
      "Markov models (HMMs) in much smaller than linear space. Our analysis on\n",
      "two-state HMMs suggests that the expected maximum memory used to decode\n",
      "sequence of length $n$ with $m$-state HMM can be as low as $\\Theta(m\\log n)$,\n",
      "without a significant slow-down compared to the classical Viterbi algorithm.\n",
      "Classical Viterbi algorithm requires $O(mn)$ space, which is impractical for\n",
      "analysis of long DNA sequences (such as complete human genome chromosomes) and\n",
      "for continuous data streams. We also experimentally demonstrate the performance\n",
      "of the on-line Viterbi algorithm on a simple HMM for gene finding on both\n",
      "simulated and real DNA sequences.\n",
      "\n"
     ]
    }
   ],
   "source": [
    "print(df['abstract'][0])"
   ]
  },
  {
   "cell_type": "code",
   "execution_count": 23,
   "id": "6c71d4e4-243a-49ac-8f4b-62a39982fc44",
   "metadata": {},
   "outputs": [
    {
     "data": {
      "text/plain": [
       "0        Rastislav \\v{S}r\\'amek, Bro\\v{n}a Brejov\\'a, T...\n",
       "1                                                I. Grabec\n",
       "2                                             Sergey Gubin\n",
       "3                    Ketan D. Mulmuley Hariharan Narayanan\n",
       "4                                        Ketan D. Mulmuley\n",
       "                               ...                        \n",
       "82887                         Wenfei Du and Rob Tibshirani\n",
       "82888    Ranju Mandal and Partha Pratim Roy and Umapada...\n",
       "82889                 Leying Guan, Xi Chen, Wing Hung Wong\n",
       "82890                                       Amirsina Torfi\n",
       "82891    Yuan Liu, Yuancheng Wang, Nan Li, Xu Cheng, Yi...\n",
       "Name: authors, Length: 82892, dtype: object"
      ]
     },
     "execution_count": 23,
     "metadata": {},
     "output_type": "execute_result"
    }
   ],
   "source": [
    "df['authors']"
   ]
  },
  {
   "cell_type": "code",
   "execution_count": null,
   "id": "4e668cdb-e7a9-4bc7-b7ce-8677370c2ccc",
   "metadata": {},
   "outputs": [],
   "source": []
  },
  {
   "cell_type": "code",
   "execution_count": null,
   "id": "8a795852-e15c-4c2b-8477-9fd83c8a967c",
   "metadata": {},
   "outputs": [],
   "source": []
  },
  {
   "cell_type": "code",
   "execution_count": 21,
   "id": "c313c73e-58e4-4773-8801-b84c1ea1d88f",
   "metadata": {},
   "outputs": [
    {
     "data": {
      "text/plain": [
       "'In this paper, we introduce the on-line Viterbi algorithm for decoding hidden Markov models (HMMs) in much smaller than linear space. Our analysis on two-state HMMs suggests that the expected maximum memory used to decode sequence of length $n$ with $m$-state HMM can be as low as $\\\\Theta(m\\\\log n)$, without a significant slow-down compared to the classical Viterbi algorithm. Classical Viterbi algorithm requires $O(mn)$ space, which is impractical for analysis of long DNA sequences (such as complete human genome chromosomes) and for continuous data streams. We also experimentally demonstrate the performance of the on-line Viterbi algorithm on a simple HMM for gene finding on both simulated and real DNA sequences.'"
      ]
     },
     "execution_count": 21,
     "metadata": {},
     "output_type": "execute_result"
    }
   ],
   "source": [
    "clean_text(df['abstract'][0])"
   ]
  },
  {
   "cell_type": "code",
   "execution_count": 22,
   "id": "66e749c9-3148-4407-9d30-abcb50ca8e69",
   "metadata": {},
   "outputs": [
    {
     "name": "stdout",
     "output_type": "stream",
     "text": [
      "In this paper, we introduce the on-line Viterbi algorithm for decoding hidden Markov models (HMMs) in much smaller than linear space. Our analysis on two-state HMMs suggests that the expected maximum memory used to decode sequence of length $n$ with $m$-state HMM can be as low as $\\Theta(m\\log n)$, without a significant slow-down compared to the classical Viterbi algorithm. Classical Viterbi algorithm requires $O(mn)$ space, which is impractical for analysis of long DNA sequences (such as complete human genome chromosomes) and for continuous data streams. We also experimentally demonstrate the performance of the on-line Viterbi algorithm on a simple HMM for gene finding on both simulated and real DNA sequences.\n"
     ]
    }
   ],
   "source": [
    "print(clean_text(df['abstract'][0]))"
   ]
  },
  {
   "cell_type": "code",
   "execution_count": null,
   "id": "e7056c80-2efe-4495-b5f4-4f6276095220",
   "metadata": {},
   "outputs": [],
   "source": []
  },
  {
   "cell_type": "code",
   "execution_count": null,
   "id": "1ed2429d-40a6-438b-a5fd-16cca4d3edb3",
   "metadata": {},
   "outputs": [],
   "source": []
  },
  {
   "cell_type": "code",
   "execution_count": null,
   "id": "57840ec0-67df-4ffa-b3dc-a267bcb1ac68",
   "metadata": {},
   "outputs": [],
   "source": []
  },
  {
   "cell_type": "code",
   "execution_count": null,
   "id": "30147325-ad14-4db6-a705-e2c6ad60e266",
   "metadata": {},
   "outputs": [],
   "source": []
  },
  {
   "cell_type": "code",
   "execution_count": null,
   "id": "f98c9744-5935-4e9a-8513-f2779da3422e",
   "metadata": {},
   "outputs": [],
   "source": []
  },
  {
   "cell_type": "code",
   "execution_count": null,
   "id": "6f1f466a-41e9-4098-82bd-b728a0a70548",
   "metadata": {},
   "outputs": [],
   "source": []
  },
  {
   "cell_type": "code",
   "execution_count": null,
   "id": "b7a39929-7f20-44b9-a78b-4669603538b4",
   "metadata": {},
   "outputs": [],
   "source": []
  },
  {
   "cell_type": "code",
   "execution_count": null,
   "id": "ff781ec9-e1fe-4b25-bc79-54801cc8b4c1",
   "metadata": {},
   "outputs": [],
   "source": []
  },
  {
   "cell_type": "code",
   "execution_count": null,
   "id": "07e6950c-f09a-4ec1-88a2-f176ef9f67bb",
   "metadata": {},
   "outputs": [],
   "source": []
  },
  {
   "cell_type": "code",
   "execution_count": null,
   "id": "889b65f7-66ce-487d-9652-1aaf69223b68",
   "metadata": {},
   "outputs": [],
   "source": []
  },
  {
   "cell_type": "markdown",
   "id": "eb72b096-8da1-425a-98f3-3f200ca34e96",
   "metadata": {},
   "source": [
    "# Experimental"
   ]
  },
  {
   "cell_type": "markdown",
   "id": "d80e9ddf-2bba-4511-a5fe-07c364d4acf5",
   "metadata": {
    "jp-MarkdownHeadingCollapsed": true
   },
   "source": [
    "## Processing abstracts with Spacy"
   ]
  },
  {
   "cell_type": "raw",
   "id": "5a30a298-c762-4f9f-85b9-99014b0030de",
   "metadata": {},
   "source": [
    "# In the spacy docs I found a specific model for this : https://spacy.io/universe/project/scispacy\n",
    "# from : https://www.kaggle.com/code/onyonixch/scientific-paper-clustering\n",
    "from IPython.utils import io\n",
    "with io.capture_output() as captured:\n",
    "    !pip install https://s3-us-west-2.amazonaws.com/ai2-s2-scispacy/releases/v0.4.0/en_core_sci_lg-0.4.0.tar.gz\n",
    "# did this: rye add en_core_web_sm --url $(spacy info en_core_web_sm --url)"
   ]
  },
  {
   "cell_type": "code",
   "execution_count": null,
   "id": "2df443ee-7273-40ff-8092-24d905a19781",
   "metadata": {},
   "outputs": [],
   "source": []
  },
  {
   "cell_type": "code",
   "execution_count": null,
   "id": "319850ee-640c-4e2e-a659-679b59494854",
   "metadata": {},
   "outputs": [],
   "source": [
    "#Import NLP librarys and the spacy package to preprocess the abstract text\n",
    "import spacy\n",
    "from spacy.lang.en.stop_words import STOP_WORDS #import commen list of stopword\n",
    "import en_core_web_sm  # import downlaoded model"
   ]
  },
  {
   "cell_type": "code",
   "execution_count": null,
   "id": "b4ef6277-1ed1-45e5-8bd6-614e1157ecc6",
   "metadata": {},
   "outputs": [],
   "source": [
    "# Parser\n",
    "parser = en_core_web_sm.load()\n",
    "parser.max_length = 7000000 #Limit the size of the parser\n",
    "\n",
    "def spacy_tokenizer(sentence):\n",
    "    ''' Function to preprocess text of scientific papers \n",
    "        (e.g Removing Stopword and puntuations)'''\n",
    "    mytokens = parser(sentence)\n",
    "    mytokens = [ word.lemma_.lower().strip() if word.lemma_ != \"-PRON-\" else word.lower_ for word in mytokens ] # transform to lowercase and then split the scentence\n",
    "    mytokens = [ word for word in mytokens if word not in stopwords and word not in punctuations ] #remove stopsword an punctuation\n",
    "    mytokens = \" \".join([i for i in mytokens]) \n",
    "    return mytokens"
   ]
  },
  {
   "cell_type": "code",
   "execution_count": null,
   "id": "d991b33c-1e85-42fa-a1ec-69d08554ebb5",
   "metadata": {},
   "outputs": [],
   "source": []
  },
  {
   "cell_type": "code",
   "execution_count": null,
   "id": "17e05461-4106-4735-b4d3-832b92e8c2d4",
   "metadata": {},
   "outputs": [],
   "source": [
    "import string\n",
    "\n",
    "punctuations = string.punctuation #list of punctuation to remove from text\n",
    "stopwords = list(STOP_WORDS)\n",
    "stopwords[:10]"
   ]
  },
  {
   "cell_type": "code",
   "execution_count": null,
   "id": "ce6ad475-6561-4924-b086-ca00cae6dd56",
   "metadata": {},
   "outputs": [],
   "source": [
    "df[\"processed_text\"] = df[\"abstract\"].apply(spacy_tokenizer)"
   ]
  },
  {
   "cell_type": "code",
   "execution_count": null,
   "id": "baf06e61-c742-4699-9ba4-5c86ba2ccfc8",
   "metadata": {},
   "outputs": [],
   "source": []
  },
  {
   "cell_type": "markdown",
   "id": "3edb727d-4d39-48ff-ab5a-fcdc1f32724e",
   "metadata": {
    "jp-MarkdownHeadingCollapsed": true
   },
   "source": [
    "## Analysis"
   ]
  },
  {
   "cell_type": "code",
   "execution_count": null,
   "id": "2981ae34-2298-4b59-854c-b1fe01c43fa7",
   "metadata": {},
   "outputs": [],
   "source": [
    "import matplotlib.pyplot as plt\n",
    "import numpy as np\n",
    "%matplotlib inline"
   ]
  },
  {
   "cell_type": "code",
   "execution_count": null,
   "id": "11691ad9-4c2b-4c6d-af8b-d0681879f5d6",
   "metadata": {},
   "outputs": [],
   "source": [
    "df['abstract'].describe(include='all')\n",
    "# If any were not unique\n",
    "# df.drop_duplicates(['abstract',], inplace=True)"
   ]
  },
  {
   "cell_type": "code",
   "execution_count": null,
   "id": "58598203-48f5-40e0-b7a4-64f98048a7c9",
   "metadata": {},
   "outputs": [],
   "source": [
    "# I'll naively split the text by whitespace directly. It should be okay for an approximation.\n",
    "# I might've alternatively tokenized using SpaCy, for example, or a HuggingFace WordPiece Tokenizer, for that matter.\n",
    "df[\"abstract_len\"] = df[\"abstract\"].apply(lambda text: len(text.strip().split()))\n",
    "#weights = np.ones_like(df[\"abstract_len\"]) / len(dataset_df) * 100\n",
    "#df[\"abstract_len\"].hist(weights=weights)\n",
    "#plt.ylabel(\"% Papers\")\n",
    "plt.ylabel(\"% Papers\")\n",
    "\n",
    "\n",
    "df[\"abstract_len\"].hist()\n",
    "plt.ylabel(\"# Papers\")\n",
    "\n",
    "plt.title(\"Abstract size distribution\")\n",
    "plt.xlabel(\"Abstract Number Words\")\n",
    "plt.show()"
   ]
  },
  {
   "cell_type": "code",
   "execution_count": null,
   "id": "1b285219-c4c1-4c42-b620-b3a144062aeb",
   "metadata": {},
   "outputs": [],
   "source": []
  },
  {
   "cell_type": "code",
   "execution_count": null,
   "id": "c943d2ba-f381-4671-8937-61eaa52b2140",
   "metadata": {},
   "outputs": [],
   "source": []
  },
  {
   "cell_type": "code",
   "execution_count": null,
   "id": "a4e6d237-cf9b-433a-9dad-faaf75cf2988",
   "metadata": {},
   "outputs": [],
   "source": []
  },
  {
   "cell_type": "code",
   "execution_count": null,
   "id": "298506a7-eafe-40a0-9ff3-21f41bae8c98",
   "metadata": {},
   "outputs": [],
   "source": []
  },
  {
   "cell_type": "markdown",
   "id": "f15c0ac8-0b00-47e4-ba33-7c377eb36b42",
   "metadata": {
    "jp-MarkdownHeadingCollapsed": true
   },
   "source": [
    "## Polars to Process"
   ]
  },
  {
   "cell_type": "code",
   "execution_count": null,
   "id": "ba7f5014-713c-440c-a463-ed81e18a242f",
   "metadata": {},
   "outputs": [],
   "source": [
    "pl.Config(fmt_str_lengths=150);"
   ]
  },
  {
   "cell_type": "code",
   "execution_count": null,
   "id": "a3dc5d83-2c66-47cd-a6d6-a6fdc5874309",
   "metadata": {},
   "outputs": [],
   "source": [
    "dtypes = {\n",
    "    'id': pl.Utf8,\n",
    "    'submitter': pl.Utf8,\n",
    "    'authors': pl.Utf8,\n",
    "    'title': pl.Utf8,\n",
    "    'comments': pl.Utf8,\n",
    "    'journal-ref': pl.Utf8,\n",
    "    'doi': pl.Utf8,\n",
    "    'abstract': pl.Utf8,\n",
    "    'report-no': pl.Utf8,\n",
    "    'categories': pl.List(pl.Utf8),\n",
    "    'versions': pl.List(pl.Utf8),\n",
    "    'versions_dates': pl.List(pl.Utf8),\n",
    "}"
   ]
  },
  {
   "cell_type": "code",
   "execution_count": null,
   "id": "7f48910e-8a2e-43e1-bee6-fb352bbe2837",
   "metadata": {},
   "outputs": [],
   "source": [
    "md_df2 = pl.read_ndjson(\n",
    "    cfg.arxiv_metadata_file,\n",
    "    dtypes=dtypes,\n",
    ")"
   ]
  },
  {
   "cell_type": "code",
   "execution_count": null,
   "id": "6dd2586f-bab9-4d07-93b6-435ecdcb14b6",
   "metadata": {},
   "outputs": [],
   "source": []
  },
  {
   "cell_type": "code",
   "execution_count": null,
   "id": "30fa558d-bd1b-498d-9f79-9afd74e817b6",
   "metadata": {},
   "outputs": [],
   "source": [
    "md_df = pl.read_ndjson(cfg.arxiv_metadata_file)\n",
    "md_df.head(1)"
   ]
  },
  {
   "cell_type": "code",
   "execution_count": null,
   "id": "b906e883-2268-4a4e-9bcd-ebba4130a7ce",
   "metadata": {},
   "outputs": [],
   "source": [
    "cats_df = pl.Series(list(cs_field_map.keys()))\n",
    "cats_df.head(3)"
   ]
  },
  {
   "cell_type": "code",
   "execution_count": null,
   "id": "67b4d705-3be4-4dfd-8d0a-41cadc5b816a",
   "metadata": {},
   "outputs": [],
   "source": [
    "md_df = md_df.with_columns(pl.col(\"categories\").cast(pl.List(pl.Utf8)))"
   ]
  },
  {
   "cell_type": "code",
   "execution_count": null,
   "id": "a083c33c-01a2-41cb-b554-3fc02f3921fc",
   "metadata": {},
   "outputs": [],
   "source": [
    "md_df.head(2)"
   ]
  },
  {
   "cell_type": "code",
   "execution_count": null,
   "id": "a5d6ac62-5403-4e00-9ceb-c712721ff2d4",
   "metadata": {},
   "outputs": [],
   "source": [
    "cs_df = md_df.filter(\n",
    "    pl.col(\"categories\").arr.eval(pl.element().is_in(cats_df)).any()\n",
    ")\n",
    "cs_df.shape"
   ]
  },
  {
   "cell_type": "code",
   "execution_count": null,
   "id": "39d67971-6c8a-435b-9f7e-7580edb14d98",
   "metadata": {},
   "outputs": [],
   "source": [
    "md_df = md_df.filter(\n",
    "    pl.col('categories').is_in(list(cs_field_map.keys()))\n",
    ")\n",
    "md_df.shape"
   ]
  },
  {
   "cell_type": "code",
   "execution_count": null,
   "id": "3799119d-89ee-4497-9848-7a91bb321ad8",
   "metadata": {},
   "outputs": [],
   "source": [
    "\n",
    "    & pl.col('comments').str.contains(\"(?i)page\")"
   ]
  }
 ],
 "metadata": {
  "kernelspec": {
   "display_name": "Python 3 (ipykernel)",
   "language": "python",
   "name": "python3"
  },
  "language_info": {
   "codemirror_mode": {
    "name": "ipython",
    "version": 3
   },
   "file_extension": ".py",
   "mimetype": "text/x-python",
   "name": "python",
   "nbconvert_exporter": "python",
   "pygments_lexer": "ipython3",
   "version": "3.12.5"
  }
 },
 "nbformat": 4,
 "nbformat_minor": 5
}
