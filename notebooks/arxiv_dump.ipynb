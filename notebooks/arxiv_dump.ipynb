{
 "cells": [
  {
   "cell_type": "code",
   "execution_count": 14,
   "id": "48d6683f-c4ce-45c0-baf0-460ef01aea16",
   "metadata": {},
   "outputs": [
    {
     "name": "stdout",
     "output_type": "stream",
     "text": [
      "The autoreload extension is already loaded. To reload it, use:\n",
      "  %reload_ext autoreload\n"
     ]
    }
   ],
   "source": [
    "import dr_util.file_utils as fu\n",
    "from omegaconf import DictConfig, OmegaConf\n",
    "from hydra import initialize, compose\n",
    "\n",
    "%load_ext autoreload\n",
    "%autoreload 2"
   ]
  },
  {
   "cell_type": "code",
   "execution_count": 25,
   "id": "5e4d586c-36a0-402f-b32d-d37676122434",
   "metadata": {},
   "outputs": [
    {
     "name": "stdout",
     "output_type": "stream",
     "text": [
      "data_dir: /Users/daniellerothermel/drotherm/data/\n",
      "raw_pdf_dir: /Users/daniellerothermel/drotherm/data/raw_pdfs/\n",
      "parsed_pdf_dir: /Users/daniellerothermel/drotherm/data/parsed_pdfs/\n",
      "metadata_dir: /Users/daniellerothermel/drotherm/data/parsed_pdfs/\n",
      "author_data_dir: /Users/daniellerothermel/drotherm/data/author_data/\n",
      "author_summaries_dir: /Users/daniellerothermel/drotherm/data/author_data/summaries/\n",
      "arxiv_dir: /Users/daniellerothermel/drotherm/data/arxiv/\n",
      "author_info_file: /Users/daniellerothermel/drotherm/data/author_data/manual_profiles.json\n",
      "arxiv_metadata_file: /Users/daniellerothermel/drotherm/data/arxiv/arxiv-metadata-oai-2024-10-14.json\n",
      "prof_pattern: (?P<professor_name>[\\w_]+)\n",
      "file_type_pattern: (?P<file_type>\\w+)\n",
      "version_pattern: v(?P<version>\\d+)\n",
      "author_summary_file_pattern: (?P<professor_name>[\\w_]+)\\.(?P<file_type>\\w+)\\.v(?P<version>\\d+)\n",
      "\n"
     ]
    }
   ],
   "source": [
    "with initialize(config_path=\"../configs/\", version_base=None):\n",
    "    cfg = compose(config_name=\"paper_data.yaml\")\n",
    "print(OmegaConf.to_yaml(OmegaConf.to_container(cfg, resolve=True)))"
   ]
  },
  {
   "cell_type": "code",
   "execution_count": 26,
   "id": "85019148-d16a-4a46-a8f4-e48a5644ba65",
   "metadata": {},
   "outputs": [
    {
     "name": "stdout",
     "output_type": "stream",
     "text": [
      "\n",
      ":: Help for dr_util.file_utils ::\n",
      " --------------------------------- \n",
      "\n",
      " For pathlib helpers: fu.pathlib_help()\n",
      "\n",
      " Main Functions\n",
      "  - load_file(path, force_suffix=None, mmm=None, *, verbose=True)\n",
      "  - dump_file(data, path, force_suffix=None, verbose=Tue)\n",
      "  - load_files(path_list)\n",
      "\n",
      " Supported Endings: json, jsonl, pkl, txt, npy, yaml\n",
      "\n",
      " --------------------------------- \n",
      "\n"
     ]
    }
   ],
   "source": [
    "print(fu.fu_help())"
   ]
  },
  {
   "cell_type": "code",
   "execution_count": 29,
   "id": "17695417-529f-43d1-8866-f462e595108e",
   "metadata": {},
   "outputs": [],
   "source": [
    "md = fu.load_file(cfg.arxiv_metadata_file, force_suffix='jsonl')"
   ]
  },
  {
   "cell_type": "code",
   "execution_count": 30,
   "id": "d036049b-abdd-4d68-9f82-17e75ad4a65b",
   "metadata": {},
   "outputs": [
    {
     "data": {
      "text/plain": [
       "15000"
      ]
     },
     "execution_count": 30,
     "metadata": {},
     "output_type": "execute_result"
    }
   ],
   "source": [
    "len(md)"
   ]
  },
  {
   "cell_type": "code",
   "execution_count": 32,
   "id": "6a5311e6-9bde-4f36-8cc3-c3101f57b748",
   "metadata": {},
   "outputs": [
    {
     "data": {
      "text/plain": [
       "dict_keys(['id', 'submitter', 'authors', 'title', 'comments', 'journal-ref', 'doi', 'abstract', 'report-no', 'categories', 'versions', 'versions_dates'])"
      ]
     },
     "execution_count": 32,
     "metadata": {},
     "output_type": "execute_result"
    }
   ],
   "source": [
    "md[0].keys()"
   ]
  },
  {
   "cell_type": "code",
   "execution_count": null,
   "id": "5897cf94-c132-4b5c-bde1-24d6be133e0d",
   "metadata": {},
   "outputs": [],
   "source": []
  }
 ],
 "metadata": {
  "kernelspec": {
   "display_name": "Python 3 (ipykernel)",
   "language": "python",
   "name": "python3"
  },
  "language_info": {
   "codemirror_mode": {
    "name": "ipython",
    "version": 3
   },
   "file_extension": ".py",
   "mimetype": "text/x-python",
   "name": "python",
   "nbconvert_exporter": "python",
   "pygments_lexer": "ipython3",
   "version": "3.12.5"
  }
 },
 "nbformat": 4,
 "nbformat_minor": 5
}
